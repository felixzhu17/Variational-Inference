{
 "cells": [
  {
   "cell_type": "code",
   "execution_count": 48,
   "metadata": {},
   "outputs": [],
   "source": [
    "import numpy as np\n",
    "import torch"
   ]
  },
  {
   "cell_type": "code",
   "execution_count": 374,
   "metadata": {},
   "outputs": [],
   "source": [
    "import torch\n",
    "\n",
    "PRIOR_LAMBDA = 1.0\n",
    "PRIOR_SD = 1.0\n",
    "\n",
    "def sample_exp(l):\n",
    "    # Using exponential sampling from PyTorch\n",
    "    return torch.distributions.Exponential(1.0/l).sample()\n",
    "\n",
    "def sample_norm(mu, sd):\n",
    "    # Using normal sampling from PyTorch\n",
    "    return torch.distributions.Normal(mu, sd).sample()\n",
    "\n",
    "def elbo_score(theta, x_samples, prior_lambda, prior_sd):\n",
    "    elbo = torch.sum(x_samples) / (theta * prior_sd**2) \n",
    "    elbo -= 1 / ((theta**2) * (prior_sd**2))\n",
    "    elbo -= prior_lambda / theta \n",
    "    elbo -= torch.log(theta) \n",
    "    return elbo\n",
    "\n",
    "def elbo_optimal(x_samples, prior_lambda, prior_sd):\n",
    "    a = 1\n",
    "    b = torch.sum(x_samples) / (prior_sd**2) - prior_lambda\n",
    "    c = -2/prior_sd**2\n",
    "    return (-b + torch.sqrt(b**2 - 4*a*c)) / (2*a)\n",
    "\n",
    "def true_posterior(z, x_samples, prior_lambda, prior_sd):\n",
    "    exponent = torch.sum(-0.5 * ((x_samples - z) / prior_sd) ** 2) - prior_lambda * z\n",
    "    return torch.exp(exponent)"
   ]
  },
  {
   "cell_type": "code",
   "execution_count": 375,
   "metadata": {},
   "outputs": [
    {
     "data": {
      "text/plain": [
       "tensor(0.5008)"
      ]
     },
     "execution_count": 375,
     "metadata": {},
     "output_type": "execute_result"
    }
   ],
   "source": [
    "TRUE_Z = sample_exp(PRIOR_LAMBDA)\n",
    "TRUE_Z"
   ]
  },
  {
   "cell_type": "code",
   "execution_count": 387,
   "metadata": {},
   "outputs": [],
   "source": [
    "NUM_SAMPLES = 100\n",
    "x_samples = torch.tensor([sample_norm(TRUE_Z, PRIOR_SD) for _ in range(NUM_SAMPLES)])"
   ]
  },
  {
   "cell_type": "code",
   "execution_count": 388,
   "metadata": {},
   "outputs": [],
   "source": [
    "ALPHA = 0.1\n",
    "START_ESTIMATE = 3.0\n",
    "theta_estimate = torch.tensor(START_ESTIMATE, requires_grad=True)\n",
    "for _ in range(100):\n",
    "    elbo = elbo_score(theta_estimate, x_samples, PRIOR_LAMBDA, PRIOR_SD)\n",
    "    elbo.backward()\n",
    "    theta_estimate.data += ALPHA*theta_estimate.grad\n",
    "    theta_estimate.grad.zero_()\n",
    "    \n",
    "    # Ensuring theta_estimate remains positive\n",
    "    if theta_estimate.data < 0:\n",
    "        theta_estimate.data = torch.tensor(1e-4)  # setting to a small positive value\n",
    "theta_optimal = elbo_optimal(x_samples, PRIOR_LAMBDA, PRIOR_SD)"
   ]
  },
  {
   "cell_type": "code",
   "execution_count": 389,
   "metadata": {},
   "outputs": [
    {
     "name": "stdout",
     "output_type": "stream",
     "text": [
      "theta_estimate=tensor(1.9948e+11, requires_grad=True)\n",
      "theta_optimal=tensor(0.0384)\n"
     ]
    }
   ],
   "source": [
    "print(f\"{theta_estimate=}\")\n",
    "print(f\"{theta_optimal=}\")"
   ]
  },
  {
   "cell_type": "code",
   "execution_count": 390,
   "metadata": {},
   "outputs": [
    {
     "data": {
      "image/png": "[encoded data removed]",
      "text/plain": [
       "<Figure size 720x432 with 1 Axes>"
      ]
     },
     "metadata": {
      "needs_background": "light"
     },
     "output_type": "display_data"
    }
   ],
   "source": [
    "import torch\n",
    "import matplotlib.pyplot as plt\n",
    "\n",
    "# Generate data\n",
    "x = torch.linspace(0, 5, 1000)  # Values from 0 to 5\n",
    "y = (1/theta_optimal) * torch.exp(-x/theta_optimal)  # Exponential distribution formula\n",
    "\n",
    "# Compute the posterior for each z value\n",
    "posterior_values = torch.tensor([true_posterior(z, x_samples, PRIOR_LAMBDA, PRIOR_SD) for z in x])\n",
    "\n",
    "# Numerically integrate and normalize the posterior\n",
    "delta_z = x[1] - x[0]  # spacing between z_values\n",
    "area_under_curve = torch.sum(posterior_values * delta_z)\n",
    "normalized_posterior_values = posterior_values / area_under_curve\n",
    "\n",
    "# Convert tensors to numpy arrays for plotting\n",
    "x = x.detach().numpy()\n",
    "y = y.detach().numpy()\n",
    "normalized_posterior_values = normalized_posterior_values.detach().numpy()\n",
    "\n",
    "# Plotting\n",
    "plt.figure(figsize=(10,6))\n",
    "plt.plot(x, y, label=f'Theta: {theta_estimate.item():.2f}', color='blue')\n",
    "plt.plot(x, normalized_posterior_values, label=\"Normalized True Posterior\", color='red')\n",
    "plt.axvline(TRUE_Z, color='green', linestyle='--', label=f'Actual Z: {TRUE_Z}')\n",
    "plt.title(\"Exponential Distribution & Normalized True Posterior\")\n",
    "plt.xlabel(\"Value\")\n",
    "plt.ylabel(\"Density\")\n",
    "plt.legend()\n",
    "plt.grid(True)\n",
    "plt.show()\n"
   ]
  },
  {
   "cell_type": "code",
   "execution_count": null,
   "metadata": {},
   "outputs": [],
   "source": []
  }
 ],
 "metadata": {
  "kernelspec": {
   "display_name": "Python 3.8.5 ('base')",
   "language": "python",
   "name": "python3"
  },
  "language_info": {
   "codemirror_mode": {
    "name": "ipython",
    "version": 3
   },
   "file_extension": ".py",
   "mimetype": "text/x-python",
   "name": "python",
   "nbconvert_exporter": "python",
   "pygments_lexer": "ipython3",
   "version": "3.8.5"
  },
  "orig_nbformat": 4,
  "vscode": {
   "interpreter": {
    "hash": "9c2396ee008e4910c299ae7134fa9bf09084771bab5830620999247b4a514b46"
   }
  }
 },
 "nbformat": 4,
 "nbformat_minor": 2
}
